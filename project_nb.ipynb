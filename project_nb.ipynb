{
 "cells": [
  {
   "cell_type": "markdown",
   "source": [
    "### Data Engineering Project"
   ],
   "metadata": {
    "collapsed": false
   },
   "id": "63f0e4782629874e"
  },
  {
   "cell_type": "code",
   "execution_count": 1,
   "id": "initial_id",
   "metadata": {
    "collapsed": true,
    "ExecuteTime": {
     "end_time": "2023-10-02T12:52:29.727433600Z",
     "start_time": "2023-10-02T12:52:28.210270600Z"
    }
   },
   "outputs": [],
   "source": [
    "import pandas as pd\n",
    "import numpy as np"
   ]
  },
  {
   "cell_type": "markdown",
   "source": [
    "Read in bank_marketing.csv as a pandas DataFrame."
   ],
   "metadata": {
    "collapsed": false
   },
   "id": "111d6d0d1ba93b9e"
  },
  {
   "cell_type": "code",
   "execution_count": 2,
   "outputs": [],
   "source": [
    "df = pd.read_csv(\"bank_marketing.csv\")"
   ],
   "metadata": {
    "collapsed": false,
    "ExecuteTime": {
     "end_time": "2023-10-02T12:52:36.770844400Z",
     "start_time": "2023-10-02T12:52:36.574314300Z"
    }
   },
   "id": "b502053d532d36a0"
  },
  {
   "cell_type": "markdown",
   "source": [
    "Split the data into three DataFrames using information provided about the desired tables as your guide: one with information about the client, another containing campaign data, and a third to store information about economics at the time of the campaign."
   ],
   "metadata": {
    "collapsed": false
   },
   "id": "7819b1a32bc5a74f"
  },
  {
   "cell_type": "code",
   "execution_count": 3,
   "outputs": [],
   "source": [
    "client = df[[\"client_id\", \"age\", \"job\", \"marital\", \"education\", \"credit_default\", \"housing\", \"loan\"]]\n",
    "campaign = df[[\"client_id\", \"campaign\", \"duration\", \"pdays\", \"previous\", \"poutcome\", \"y\", \"month\", \"day\"]]\n",
    "economics = df[[\"client_id\", \"emp_var_rate\", \"cons_price_idx\", \"euribor3m\", \"nr_employed\"]]"
   ],
   "metadata": {
    "collapsed": false,
    "ExecuteTime": {
     "end_time": "2023-10-02T12:52:40.387222700Z",
     "start_time": "2023-10-02T12:52:40.309867400Z"
    }
   },
   "id": "10a880fdf656e3d6"
  },
  {
   "cell_type": "markdown",
   "source": [
    "Rename the column \"client_id\" to \"id\" in client (leave as-is in the other subsets); \"duration\" to \"contact_duration\", \"previous\" to \"previous_campaign_contacts\", \"y\" to \"campaign_outcome\", \"poutcome\" to \"previous_outcome\", and \"campaign\" to \"number_contacts\" in campaign; and \"euribor3m\" to \"euribor_three_months\" and \"nr_employed\" to \"number_employed\" in economics."
   ],
   "metadata": {
    "collapsed": false
   },
   "id": "de10c6722beb68e"
  },
  {
   "cell_type": "code",
   "execution_count": 4,
   "outputs": [
    {
     "name": "stderr",
     "output_type": "stream",
     "text": [
      "C:\\Users\\PC\\AppData\\Local\\Temp\\ipykernel_23224\\3964961834.py:1: SettingWithCopyWarning: \n",
      "A value is trying to be set on a copy of a slice from a DataFrame\n",
      "\n",
      "See the caveats in the documentation: https://pandas.pydata.org/pandas-docs/stable/user_guide/indexing.html#returning-a-view-versus-a-copy\n",
      "  client.rename(columns={\"client_id\":\"id\"}, inplace=True)\n",
      "C:\\Users\\PC\\AppData\\Local\\Temp\\ipykernel_23224\\3964961834.py:2: SettingWithCopyWarning: \n",
      "A value is trying to be set on a copy of a slice from a DataFrame\n",
      "\n",
      "See the caveats in the documentation: https://pandas.pydata.org/pandas-docs/stable/user_guide/indexing.html#returning-a-view-versus-a-copy\n",
      "  campaign.rename(columns={\"duration\":\"contact_duration\", \"previous\":\"previous_campaign_contacts\", \"y\":\"campaign_outcome\", \"poutcome\":\"previous_outcome\", \"campaign\":\"number_contacts\"}, inplace=True)\n",
      "C:\\Users\\PC\\AppData\\Local\\Temp\\ipykernel_23224\\3964961834.py:3: SettingWithCopyWarning: \n",
      "A value is trying to be set on a copy of a slice from a DataFrame\n",
      "\n",
      "See the caveats in the documentation: https://pandas.pydata.org/pandas-docs/stable/user_guide/indexing.html#returning-a-view-versus-a-copy\n",
      "  economics.rename(columns={\"euribor3m\":\"euribor_three_months\", \"nr_employed\":\"number_employed\"}, inplace=True)\n"
     ]
    }
   ],
   "source": [
    "client.rename(columns={\"client_id\":\"id\"}, inplace=True)\n",
    "campaign.rename(columns={\"duration\":\"contact_duration\", \"previous\":\"previous_campaign_contacts\", \"y\":\"campaign_outcome\", \"poutcome\":\"previous_outcome\", \"campaign\":\"number_contacts\"}, inplace=True)\n",
    "economics.rename(columns={\"euribor3m\":\"euribor_three_months\", \"nr_employed\":\"number_employed\"}, inplace=True)"
   ],
   "metadata": {
    "collapsed": false,
    "ExecuteTime": {
     "end_time": "2023-10-02T12:52:43.441037100Z",
     "start_time": "2023-10-02T12:52:43.234126100Z"
    }
   },
   "id": "80c2e61e137ded54"
  },
  {
   "cell_type": "markdown",
   "source": [
    "Clean the \"education\" column, changing \".\" to \"_\" and \"unknown\" to NumPy's null values."
   ],
   "metadata": {
    "collapsed": false
   },
   "id": "fdd8f39f1cd3ffcf"
  },
  {
   "cell_type": "code",
   "execution_count": 5,
   "outputs": [
    {
     "name": "stderr",
     "output_type": "stream",
     "text": [
      "C:\\Users\\PC\\AppData\\Local\\Temp\\ipykernel_23224\\186187713.py:1: SettingWithCopyWarning: \n",
      "A value is trying to be set on a copy of a slice from a DataFrame.\n",
      "Try using .loc[row_indexer,col_indexer] = value instead\n",
      "\n",
      "See the caveats in the documentation: https://pandas.pydata.org/pandas-docs/stable/user_guide/indexing.html#returning-a-view-versus-a-copy\n",
      "  client[\"education\"] = client[\"education\"].str.replace(\".\", \"_\")\n",
      "C:\\Users\\PC\\AppData\\Local\\Temp\\ipykernel_23224\\186187713.py:2: SettingWithCopyWarning: \n",
      "A value is trying to be set on a copy of a slice from a DataFrame\n",
      "\n",
      "See the caveats in the documentation: https://pandas.pydata.org/pandas-docs/stable/user_guide/indexing.html#returning-a-view-versus-a-copy\n",
      "  client[\"education\"].replace(\"unknown\", None, inplace=True)\n"
     ]
    }
   ],
   "source": [
    "client[\"education\"] = client[\"education\"].str.replace(\".\", \"_\")\n",
    "client[\"education\"].replace(\"unknown\", None, inplace=True)"
   ],
   "metadata": {
    "collapsed": false,
    "ExecuteTime": {
     "end_time": "2023-10-02T12:53:18.566605800Z",
     "start_time": "2023-10-02T12:53:18.517561400Z"
    }
   },
   "id": "c59838791ba548bb"
  },
  {
   "cell_type": "markdown",
   "source": [
    "Remove periods from the \"job\" column."
   ],
   "metadata": {
    "collapsed": false
   },
   "id": "85df81f18f9bab65"
  },
  {
   "cell_type": "code",
   "execution_count": 6,
   "outputs": [
    {
     "name": "stderr",
     "output_type": "stream",
     "text": [
      "C:\\Users\\PC\\AppData\\Local\\Temp\\ipykernel_23224\\2831964491.py:1: SettingWithCopyWarning: \n",
      "A value is trying to be set on a copy of a slice from a DataFrame.\n",
      "Try using .loc[row_indexer,col_indexer] = value instead\n",
      "\n",
      "See the caveats in the documentation: https://pandas.pydata.org/pandas-docs/stable/user_guide/indexing.html#returning-a-view-versus-a-copy\n",
      "  client[\"job\"] = client[\"job\"].str.rstrip(\".\")\n"
     ]
    }
   ],
   "source": [
    "client[\"job\"] = client[\"job\"].str.rstrip(\".\")"
   ],
   "metadata": {
    "collapsed": false,
    "ExecuteTime": {
     "end_time": "2023-10-02T12:53:25.115575100Z",
     "start_time": "2023-10-02T12:53:25.047474300Z"
    }
   },
   "id": "7c51cf15d13ad96"
  },
  {
   "cell_type": "markdown",
   "source": [
    "Convert \"success\" and \"failure\" in the \"previous_outcome\" and \"campaign_outcome\" columns to binary (1 or 0), along with the changing \"nonexistent\" to NumPy's null values in \"previous_outcome\"."
   ],
   "metadata": {
    "collapsed": false
   },
   "id": "83a4529ecc5008f4"
  },
  {
   "cell_type": "code",
   "execution_count": 7,
   "outputs": [
    {
     "name": "stderr",
     "output_type": "stream",
     "text": [
      "C:\\Users\\PC\\AppData\\Local\\Temp\\ipykernel_23224\\1158899348.py:1: SettingWithCopyWarning: \n",
      "A value is trying to be set on a copy of a slice from a DataFrame\n",
      "\n",
      "See the caveats in the documentation: https://pandas.pydata.org/pandas-docs/stable/user_guide/indexing.html#returning-a-view-versus-a-copy\n",
      "  campaign[\"previous_outcome\"].replace(\"success\", 1, inplace=True)\n",
      "C:\\Users\\PC\\AppData\\Local\\Temp\\ipykernel_23224\\1158899348.py:2: SettingWithCopyWarning: \n",
      "A value is trying to be set on a copy of a slice from a DataFrame\n",
      "\n",
      "See the caveats in the documentation: https://pandas.pydata.org/pandas-docs/stable/user_guide/indexing.html#returning-a-view-versus-a-copy\n",
      "  campaign[\"previous_outcome\"].replace(\"failure\", 0, inplace=True)\n",
      "C:\\Users\\PC\\AppData\\Local\\Temp\\ipykernel_23224\\1158899348.py:3: SettingWithCopyWarning: \n",
      "A value is trying to be set on a copy of a slice from a DataFrame\n",
      "\n",
      "See the caveats in the documentation: https://pandas.pydata.org/pandas-docs/stable/user_guide/indexing.html#returning-a-view-versus-a-copy\n",
      "  campaign[\"previous_outcome\"].replace(\"nonexistent\", None, inplace=True)\n",
      "C:\\Users\\PC\\AppData\\Local\\Temp\\ipykernel_23224\\1158899348.py:5: SettingWithCopyWarning: \n",
      "A value is trying to be set on a copy of a slice from a DataFrame\n",
      "\n",
      "See the caveats in the documentation: https://pandas.pydata.org/pandas-docs/stable/user_guide/indexing.html#returning-a-view-versus-a-copy\n",
      "  campaign[\"campaign_outcome\"].replace(\"yes\", 1, inplace=True)\n",
      "C:\\Users\\PC\\AppData\\Local\\Temp\\ipykernel_23224\\1158899348.py:6: SettingWithCopyWarning: \n",
      "A value is trying to be set on a copy of a slice from a DataFrame\n",
      "\n",
      "See the caveats in the documentation: https://pandas.pydata.org/pandas-docs/stable/user_guide/indexing.html#returning-a-view-versus-a-copy\n",
      "  campaign[\"campaign_outcome\"].replace(\"no\", 0, inplace=True)\n"
     ]
    }
   ],
   "source": [
    "campaign[\"previous_outcome\"].replace(\"success\", 1, inplace=True)\n",
    "campaign[\"previous_outcome\"].replace(\"failure\", 0, inplace=True)\n",
    "campaign[\"previous_outcome\"].replace(\"nonexistent\", None, inplace=True)\n",
    "\n",
    "campaign[\"campaign_outcome\"].replace(\"yes\", 1, inplace=True)\n",
    "campaign[\"campaign_outcome\"].replace(\"no\", 0, inplace=True)"
   ],
   "metadata": {
    "collapsed": false,
    "ExecuteTime": {
     "end_time": "2023-10-02T12:53:39.044561500Z",
     "start_time": "2023-10-02T12:53:38.998235500Z"
    }
   },
   "id": "8ac113100370ba4e"
  },
  {
   "cell_type": "code",
   "execution_count": 8,
   "outputs": [
    {
     "name": "stderr",
     "output_type": "stream",
     "text": [
      "C:\\Users\\PC\\AppData\\Local\\Temp\\ipykernel_23224\\85029388.py:1: SettingWithCopyWarning: \n",
      "A value is trying to be set on a copy of a slice from a DataFrame.\n",
      "Try using .loc[row_indexer,col_indexer] = value instead\n",
      "\n",
      "See the caveats in the documentation: https://pandas.pydata.org/pandas-docs/stable/user_guide/indexing.html#returning-a-view-versus-a-copy\n",
      "  campaign[\"previous_outcome\"] = campaign[\"previous_outcome\"].astype(\"category\")\n",
      "C:\\Users\\PC\\AppData\\Local\\Temp\\ipykernel_23224\\85029388.py:2: SettingWithCopyWarning: \n",
      "A value is trying to be set on a copy of a slice from a DataFrame.\n",
      "Try using .loc[row_indexer,col_indexer] = value instead\n",
      "\n",
      "See the caveats in the documentation: https://pandas.pydata.org/pandas-docs/stable/user_guide/indexing.html#returning-a-view-versus-a-copy\n",
      "  campaign[\"campaign_outcome\"] = campaign[\"campaign_outcome\"].astype(\"category\")\n"
     ]
    }
   ],
   "source": [
    "campaign[\"previous_outcome\"] = campaign[\"previous_outcome\"].astype(\"category\")\n",
    "campaign[\"campaign_outcome\"] = campaign[\"campaign_outcome\"].astype(\"category\")"
   ],
   "metadata": {
    "collapsed": false,
    "ExecuteTime": {
     "end_time": "2023-10-02T12:53:40.871350700Z",
     "start_time": "2023-10-02T12:53:40.813260100Z"
    }
   },
   "id": "1649ee89fe727e84"
  },
  {
   "cell_type": "markdown",
   "source": [
    "Add a column called campaign_id in campaign, where all rows have a value of 1."
   ],
   "metadata": {
    "collapsed": false
   },
   "id": "4398de2baab50eb2"
  },
  {
   "cell_type": "code",
   "execution_count": 9,
   "outputs": [
    {
     "name": "stderr",
     "output_type": "stream",
     "text": [
      "C:\\Users\\PC\\AppData\\Local\\Temp\\ipykernel_23224\\1529006688.py:1: SettingWithCopyWarning: \n",
      "A value is trying to be set on a copy of a slice from a DataFrame.\n",
      "Try using .loc[row_indexer,col_indexer] = value instead\n",
      "\n",
      "See the caveats in the documentation: https://pandas.pydata.org/pandas-docs/stable/user_guide/indexing.html#returning-a-view-versus-a-copy\n",
      "  campaign[\"campaign_id\"]=1\n"
     ]
    }
   ],
   "source": [
    "campaign[\"campaign_id\"]=1"
   ],
   "metadata": {
    "collapsed": false,
    "ExecuteTime": {
     "end_time": "2023-10-02T12:53:44.612619100Z",
     "start_time": "2023-10-02T12:53:44.554722700Z"
    }
   },
   "id": "3e92f063dde060e4"
  },
  {
   "cell_type": "markdown",
   "source": [
    "Create a datetime column called last_contact_date, in the format of \"year-month-day\", where the year is 2022, and the month and day values are taken from the \"month\" and \"day\" columns."
   ],
   "metadata": {
    "collapsed": false
   },
   "id": "1b5deb93ffaa444a"
  },
  {
   "cell_type": "code",
   "execution_count": 10,
   "outputs": [
    {
     "name": "stderr",
     "output_type": "stream",
     "text": [
      "C:\\Users\\PC\\AppData\\Local\\Temp\\ipykernel_23224\\853741144.py:1: SettingWithCopyWarning: \n",
      "A value is trying to be set on a copy of a slice from a DataFrame.\n",
      "Try using .loc[row_indexer,col_indexer] = value instead\n",
      "\n",
      "See the caveats in the documentation: https://pandas.pydata.org/pandas-docs/stable/user_guide/indexing.html#returning-a-view-versus-a-copy\n",
      "  campaign[\"last_contact_date\"] = \"2022\" + \"-\" + campaign[\"month\"] + \"-\" + campaign[\"day\"].astype(str)\n",
      "C:\\Users\\PC\\AppData\\Local\\Temp\\ipykernel_23224\\853741144.py:2: UserWarning: Could not infer format, so each element will be parsed individually, falling back to `dateutil`. To ensure parsing is consistent and as-expected, please specify a format.\n",
      "  campaign[\"last_contact_date\"] = pd.to_datetime(campaign[\"last_contact_date\"])\n",
      "C:\\Users\\PC\\AppData\\Local\\Temp\\ipykernel_23224\\853741144.py:2: SettingWithCopyWarning: \n",
      "A value is trying to be set on a copy of a slice from a DataFrame.\n",
      "Try using .loc[row_indexer,col_indexer] = value instead\n",
      "\n",
      "See the caveats in the documentation: https://pandas.pydata.org/pandas-docs/stable/user_guide/indexing.html#returning-a-view-versus-a-copy\n",
      "  campaign[\"last_contact_date\"] = pd.to_datetime(campaign[\"last_contact_date\"])\n"
     ]
    }
   ],
   "source": [
    "campaign[\"last_contact_date\"] = \"2022\" + \"-\" + campaign[\"month\"] + \"-\" + campaign[\"day\"].astype(str)\n",
    "campaign[\"last_contact_date\"] = pd.to_datetime(campaign[\"last_contact_date\"])"
   ],
   "metadata": {
    "collapsed": false,
    "ExecuteTime": {
     "end_time": "2023-10-02T12:53:54.618306800Z",
     "start_time": "2023-10-02T12:53:54.500666700Z"
    }
   },
   "id": "110c7f1d2164bd5a"
  },
  {
   "cell_type": "markdown",
   "source": [
    "Remove any redundant data that might have been used to create new columns, ensuring the columns in each subset of the data match the table displayed in the notebook."
   ],
   "metadata": {
    "collapsed": false
   },
   "id": "f040c5c26491bcb6"
  },
  {
   "cell_type": "code",
   "execution_count": 11,
   "outputs": [
    {
     "name": "stderr",
     "output_type": "stream",
     "text": [
      "C:\\Users\\PC\\AppData\\Local\\Temp\\ipykernel_23224\\1061317577.py:1: SettingWithCopyWarning: \n",
      "A value is trying to be set on a copy of a slice from a DataFrame\n",
      "\n",
      "See the caveats in the documentation: https://pandas.pydata.org/pandas-docs/stable/user_guide/indexing.html#returning-a-view-versus-a-copy\n",
      "  campaign.drop([\"month\", \"day\"], axis=1, inplace=True)\n"
     ]
    }
   ],
   "source": [
    "campaign.drop([\"month\", \"day\"], axis=1, inplace=True)"
   ],
   "metadata": {
    "collapsed": false,
    "ExecuteTime": {
     "end_time": "2023-10-02T12:54:01.941200200Z",
     "start_time": "2023-10-02T12:54:01.840563600Z"
    }
   },
   "id": "64d7cfa297449531"
  },
  {
   "cell_type": "markdown",
   "source": [
    "Save the three DataFrames to csv files without an index as client.csv, campaign.csv, and economics.csv respectively."
   ],
   "metadata": {
    "collapsed": false
   },
   "id": "b123891456562b8"
  },
  {
   "cell_type": "code",
   "execution_count": 12,
   "outputs": [],
   "source": [
    "client.to_csv(\"client.csv\", index=False)\n",
    "campaign.to_csv(\"campaign.csv\", index=False)\n",
    "economics.to_csv(\"economics.csv\", index=False)"
   ],
   "metadata": {
    "collapsed": false,
    "ExecuteTime": {
     "end_time": "2023-10-02T12:54:07.474087400Z",
     "start_time": "2023-10-02T12:54:06.951405300Z"
    }
   },
   "id": "d497f60e525cdf12"
  },
  {
   "cell_type": "markdown",
   "source": [
    "Create a Python variable called client_table, containing SQL code as a multi-line string to create a table called client using values from client.csv."
   ],
   "metadata": {
    "collapsed": false
   },
   "id": "f18f47f82134eec0"
  },
  {
   "cell_type": "code",
   "execution_count": 20,
   "outputs": [],
   "source": [
    "client_table = \"\"\"\n",
    "    CREATE TABLE client (\n",
    "        id SERIAL PRIMARY KEY,\n",
    "        age INT,\n",
    "        job VARCHAR(20),\n",
    "        marital VARCHAR(10),\n",
    "        education VARCHAR(20),\n",
    "        credit_default BOOLEAN,\n",
    "        housing BOOLEAN,\n",
    "        loan BOOLEAN\n",
    "    );\n",
    "\"\"\""
   ],
   "metadata": {
    "collapsed": false,
    "ExecuteTime": {
     "end_time": "2023-10-02T12:57:08.623224Z",
     "start_time": "2023-10-02T12:57:08.557020400Z"
    }
   },
   "id": "d3ba2348703c2ee6"
  },
  {
   "cell_type": "markdown",
   "source": [
    "Create a Python variable called campaign_table, containing SQL code as a multi-line string to create a table called campaign using values from campaign.csv."
   ],
   "metadata": {
    "collapsed": false
   },
   "id": "3fd7c99aab2c5a03"
  },
  {
   "cell_type": "code",
   "execution_count": 24,
   "outputs": [],
   "source": [
    "campaign_table = \"\"\"\n",
    "    CREATE TABLE campaign (\n",
    "        campaign_id SERIAL PRIMARY KEY,\n",
    "        client_id SERIAL,\n",
    "        number_contacts INT,\n",
    "        contact_duration INT,\n",
    "        pdays INT,\n",
    "        previous_campaign_contacts BOOLEAN,\n",
    "        previous_outcome BOOLEAN,\n",
    "        campaign_outcome BOOLEAN,        \n",
    "        last_contact_date DATE,\n",
    "        FOREIGN KEY (client_id) REFERENCES client(id)\n",
    "    );\n",
    "\"\"\""
   ],
   "metadata": {
    "collapsed": false,
    "ExecuteTime": {
     "end_time": "2023-10-02T12:57:35.231125Z",
     "start_time": "2023-10-02T12:57:35.134810900Z"
    }
   },
   "id": "da45743a62855001"
  },
  {
   "cell_type": "markdown",
   "source": [
    "Create a Python variable called economics_table, containing SQL code as a multi-line string to create a table called economics using values from economics.csv."
   ],
   "metadata": {
    "collapsed": false
   },
   "id": "edb414f5c1009fe9"
  },
  {
   "cell_type": "code",
   "execution_count": 25,
   "outputs": [],
   "source": [
    "economics_table = \"\"\"\n",
    "    CREATE TABLE economics (\n",
    "        client_id SERIAL,\n",
    "        emp_var_rate FLOAT,\n",
    "        cons_price_idx FLOAT,\n",
    "        euribor_three_months FLOAT,\n",
    "        number_employed FLOAT,\n",
    "        FOREIGN KEY (client_id) REFERENCES client(id)\n",
    "    );\n",
    "\"\"\""
   ],
   "metadata": {
    "collapsed": false,
    "ExecuteTime": {
     "end_time": "2023-10-02T12:57:43.211092900Z",
     "start_time": "2023-10-02T12:57:43.028999300Z"
    }
   },
   "id": "4361601f24216250"
  },
  {
   "cell_type": "markdown",
   "source": [
    "In client, campaign, and economic, ensure the final line copies the data from their respective csv files using the following template code snippet: \\copy table_name from 'file_name.csv' DELIMITER ',' CSV HEADER"
   ],
   "metadata": {
    "collapsed": false
   },
   "id": "8aff8181fcf429cc"
  },
  {
   "cell_type": "code",
   "execution_count": 33,
   "outputs": [
    {
     "ename": "InvalidTextRepresentation",
     "evalue": "ERREUR:  syntaxe en entrée invalide pour le type boolean : « unknown »\nCONTEXT:  COPY client, ligne 3, colonne credit_default : « unknown »\n",
     "output_type": "error",
     "traceback": [
      "\u001B[1;31m---------------------------------------------------------------------------\u001B[0m",
      "\u001B[1;31mInvalidTextRepresentation\u001B[0m                 Traceback (most recent call last)",
      "Cell \u001B[1;32mIn[33], line 28\u001B[0m\n\u001B[0;32m     26\u001B[0m \u001B[38;5;28;01mfor\u001B[39;00m table, file \u001B[38;5;129;01min\u001B[39;00m \u001B[38;5;28mzip\u001B[39m(table_names, file_names) :\n\u001B[0;32m     27\u001B[0m     insert_comm \u001B[38;5;241m=\u001B[39m \u001B[38;5;124mf\u001B[39m\u001B[38;5;124m\"\u001B[39m\u001B[38;5;124mcopy \u001B[39m\u001B[38;5;132;01m{\u001B[39;00mtable\u001B[38;5;132;01m}\u001B[39;00m\u001B[38;5;124m from \u001B[39m\u001B[38;5;124m'\u001B[39m\u001B[38;5;132;01m{\u001B[39;00mfile\u001B[38;5;132;01m}\u001B[39;00m\u001B[38;5;124m'\u001B[39m\u001B[38;5;124m DELIMITER \u001B[39m\u001B[38;5;124m'\u001B[39m\u001B[38;5;124m,\u001B[39m\u001B[38;5;124m'\u001B[39m\u001B[38;5;124m CSV HEADER;\u001B[39m\u001B[38;5;124m\"\u001B[39m\n\u001B[1;32m---> 28\u001B[0m     \u001B[43mcur\u001B[49m\u001B[38;5;241;43m.\u001B[39;49m\u001B[43mexecute\u001B[49m\u001B[43m(\u001B[49m\u001B[43minsert_comm\u001B[49m\u001B[43m)\u001B[49m\n\u001B[0;32m     30\u001B[0m conn\u001B[38;5;241m.\u001B[39mcommit()\n\u001B[0;32m     31\u001B[0m cur\u001B[38;5;241m.\u001B[39mclose()\n",
      "\u001B[1;31mInvalidTextRepresentation\u001B[0m: ERREUR:  syntaxe en entrée invalide pour le type boolean : « unknown »\nCONTEXT:  COPY client, ligne 3, colonne credit_default : « unknown »\n"
     ]
    }
   ],
   "source": [
    "import psycopg2\n",
    "import os\n",
    "conn = psycopg2.connect(\n",
    "    host = \"localhost\",\n",
    "    database = \"marketing_db\",\n",
    "    user=\"postgres\",\n",
    "    password=\"root\"\n",
    ")\n",
    "\n",
    "# Créer un objet curseur\n",
    "cur = conn.cursor()\n",
    "\n",
    "# Créer les tables\n",
    "cur.execute(client_table)\n",
    "cur.execute(campaign_table)\n",
    "cur.execute(economics_table)\n",
    "\n",
    "path_client = os.path.abspath(\"client.csv\")\n",
    "path_campaign = os.path.abspath(\"campaign.csv\")\n",
    "path_economics = os.path.abspath(\"campaign.csv\")\n",
    "\n",
    "# Insertion des données\n",
    "table_names = [\"client\", \"campaign\", \"economics\"]\n",
    "file_names = [path_client, path_campaign, path_economics]\n",
    "\n",
    "for table, file in zip(table_names, file_names) :\n",
    "    insert_comm = f\"copy {table} from '{file}' DELIMITER ',' CSV HEADER;\"\n",
    "    cur.execute(insert_comm)\n",
    "    \n",
    "conn.commit()\n",
    "cur.close()\n",
    "conn.close()"
   ],
   "metadata": {
    "collapsed": false,
    "ExecuteTime": {
     "end_time": "2023-10-02T13:12:18.984136200Z",
     "start_time": "2023-10-02T13:12:18.846315400Z"
    }
   },
   "id": "cf54a8946952cd89"
  },
  {
   "cell_type": "code",
   "execution_count": 18,
   "outputs": [
    {
     "data": {
      "text/plain": "          id  age          job   marital            education credit_default  \\\n16373  16373   42    housemaid   married             basic_4y        unknown   \n37386  37386   36        admin  divorced    university_degree             no   \n15027  15027   40     services   married             basic_9y             no   \n10345  10345   40  blue-collar    single             basic_9y             no   \n19756  19756   31        admin   married  professional_course        unknown   \n\n      housing loan  \n16373      no  yes  \n37386      no  yes  \n15027     yes   no  \n10345      no   no  \n19756     yes   no  ",
      "text/html": "<div>\n<style scoped>\n    .dataframe tbody tr th:only-of-type {\n        vertical-align: middle;\n    }\n\n    .dataframe tbody tr th {\n        vertical-align: top;\n    }\n\n    .dataframe thead th {\n        text-align: right;\n    }\n</style>\n<table border=\"1\" class=\"dataframe\">\n  <thead>\n    <tr style=\"text-align: right;\">\n      <th></th>\n      <th>id</th>\n      <th>age</th>\n      <th>job</th>\n      <th>marital</th>\n      <th>education</th>\n      <th>credit_default</th>\n      <th>housing</th>\n      <th>loan</th>\n    </tr>\n  </thead>\n  <tbody>\n    <tr>\n      <th>16373</th>\n      <td>16373</td>\n      <td>42</td>\n      <td>housemaid</td>\n      <td>married</td>\n      <td>basic_4y</td>\n      <td>unknown</td>\n      <td>no</td>\n      <td>yes</td>\n    </tr>\n    <tr>\n      <th>37386</th>\n      <td>37386</td>\n      <td>36</td>\n      <td>admin</td>\n      <td>divorced</td>\n      <td>university_degree</td>\n      <td>no</td>\n      <td>no</td>\n      <td>yes</td>\n    </tr>\n    <tr>\n      <th>15027</th>\n      <td>15027</td>\n      <td>40</td>\n      <td>services</td>\n      <td>married</td>\n      <td>basic_9y</td>\n      <td>no</td>\n      <td>yes</td>\n      <td>no</td>\n    </tr>\n    <tr>\n      <th>10345</th>\n      <td>10345</td>\n      <td>40</td>\n      <td>blue-collar</td>\n      <td>single</td>\n      <td>basic_9y</td>\n      <td>no</td>\n      <td>no</td>\n      <td>no</td>\n    </tr>\n    <tr>\n      <th>19756</th>\n      <td>19756</td>\n      <td>31</td>\n      <td>admin</td>\n      <td>married</td>\n      <td>professional_course</td>\n      <td>unknown</td>\n      <td>yes</td>\n      <td>no</td>\n    </tr>\n  </tbody>\n</table>\n</div>"
     },
     "execution_count": 18,
     "metadata": {},
     "output_type": "execute_result"
    }
   ],
   "source": [
    "client.sample(5)"
   ],
   "metadata": {
    "collapsed": false,
    "ExecuteTime": {
     "end_time": "2023-10-02T12:56:34.343660100Z",
     "start_time": "2023-10-02T12:56:34.294096600Z"
    }
   },
   "id": "8822d00c007be541"
  },
  {
   "cell_type": "code",
   "execution_count": null,
   "outputs": [],
   "source": [],
   "metadata": {
    "collapsed": false
   },
   "id": "b68e4346aa658e6f"
  }
 ],
 "metadata": {
  "kernelspec": {
   "display_name": "Python 3",
   "language": "python",
   "name": "python3"
  },
  "language_info": {
   "codemirror_mode": {
    "name": "ipython",
    "version": 2
   },
   "file_extension": ".py",
   "mimetype": "text/x-python",
   "name": "python",
   "nbconvert_exporter": "python",
   "pygments_lexer": "ipython2",
   "version": "2.7.6"
  }
 },
 "nbformat": 4,
 "nbformat_minor": 5
}
